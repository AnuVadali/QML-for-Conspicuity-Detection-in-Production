{
  "nbformat": 4,
  "nbformat_minor": 0,
  "metadata": {
    "colab": {
      "provenance": []
    },
    "kernelspec": {
      "name": "python3",
      "display_name": "Python 3"
    },
    "language_info": {
      "name": "python"
    }
  },
  "cells": [
    {
      "cell_type": "markdown",
      "source": [
        "# Task 3 - Quanvolutional Neural Networks"
      ],
      "metadata": {
        "id": "uDiIO6ReKpAl"
      }
    },
    {
      "cell_type": "code",
      "execution_count": null,
      "metadata": {
        "colab": {
          "base_uri": "https://localhost:8080/"
        },
        "id": "dl6Nyo6gJvUE",
        "outputId": "e4471a6c-8c4b-4ed4-d984-3e8519cf00a2"
      },
      "outputs": [
        {
          "output_type": "stream",
          "name": "stdout",
          "text": [
            "Collecting pennylane\n",
            "  Downloading PennyLane-0.37.0-py3-none-any.whl.metadata (9.3 kB)\n",
            "Requirement already satisfied: numpy<2.0 in /usr/local/lib/python3.10/dist-packages (from pennylane) (1.26.4)\n",
            "Requirement already satisfied: scipy in /usr/local/lib/python3.10/dist-packages (from pennylane) (1.13.1)\n",
            "Requirement already satisfied: networkx in /usr/local/lib/python3.10/dist-packages (from pennylane) (3.3)\n",
            "Collecting rustworkx (from pennylane)\n",
            "  Downloading rustworkx-0.15.1-cp38-abi3-manylinux_2_17_x86_64.manylinux2014_x86_64.whl.metadata (9.9 kB)\n",
            "Requirement already satisfied: autograd in /usr/local/lib/python3.10/dist-packages (from pennylane) (1.6.2)\n",
            "Requirement already satisfied: toml in /usr/local/lib/python3.10/dist-packages (from pennylane) (0.10.2)\n",
            "Collecting appdirs (from pennylane)\n",
            "  Downloading appdirs-1.4.4-py2.py3-none-any.whl.metadata (9.0 kB)\n",
            "Collecting semantic-version>=2.7 (from pennylane)\n",
            "  Downloading semantic_version-2.10.0-py2.py3-none-any.whl.metadata (9.7 kB)\n",
            "Collecting autoray>=0.6.11 (from pennylane)\n",
            "  Downloading autoray-0.6.12-py3-none-any.whl.metadata (5.7 kB)\n",
            "Requirement already satisfied: cachetools in /usr/local/lib/python3.10/dist-packages (from pennylane) (5.4.0)\n",
            "Collecting pennylane-lightning>=0.37 (from pennylane)\n",
            "  Downloading PennyLane_Lightning-0.37.0-cp310-cp310-manylinux_2_28_x86_64.whl.metadata (23 kB)\n",
            "Requirement already satisfied: requests in /usr/local/lib/python3.10/dist-packages (from pennylane) (2.31.0)\n",
            "Requirement already satisfied: typing-extensions in /usr/local/lib/python3.10/dist-packages (from pennylane) (4.12.2)\n",
            "Requirement already satisfied: packaging in /usr/local/lib/python3.10/dist-packages (from pennylane) (24.1)\n",
            "Requirement already satisfied: future>=0.15.2 in /usr/local/lib/python3.10/dist-packages (from autograd->pennylane) (1.0.0)\n",
            "Requirement already satisfied: charset-normalizer<4,>=2 in /usr/local/lib/python3.10/dist-packages (from requests->pennylane) (3.3.2)\n",
            "Requirement already satisfied: idna<4,>=2.5 in /usr/local/lib/python3.10/dist-packages (from requests->pennylane) (3.7)\n",
            "Requirement already satisfied: urllib3<3,>=1.21.1 in /usr/local/lib/python3.10/dist-packages (from requests->pennylane) (2.0.7)\n",
            "Requirement already satisfied: certifi>=2017.4.17 in /usr/local/lib/python3.10/dist-packages (from requests->pennylane) (2024.7.4)\n",
            "Downloading PennyLane-0.37.0-py3-none-any.whl (1.8 MB)\n",
            "\u001b[2K   \u001b[90m━━━━━━━━━━━━━━━━━━━━━━━━━━━━━━━━━━━━━━━━\u001b[0m \u001b[32m1.8/1.8 MB\u001b[0m \u001b[31m9.6 MB/s\u001b[0m eta \u001b[36m0:00:00\u001b[0m\n",
            "\u001b[?25hDownloading autoray-0.6.12-py3-none-any.whl (50 kB)\n",
            "\u001b[2K   \u001b[90m━━━━━━━━━━━━━━━━━━━━━━━━━━━━━━━━━━━━━━━━\u001b[0m \u001b[32m51.0/51.0 kB\u001b[0m \u001b[31m3.0 MB/s\u001b[0m eta \u001b[36m0:00:00\u001b[0m\n",
            "\u001b[?25hDownloading PennyLane_Lightning-0.37.0-cp310-cp310-manylinux_2_28_x86_64.whl (15.5 MB)\n",
            "\u001b[2K   \u001b[90m━━━━━━━━━━━━━━━━━━━━━━━━━━━━━━━━━━━━━━━━\u001b[0m \u001b[32m15.5/15.5 MB\u001b[0m \u001b[31m44.7 MB/s\u001b[0m eta \u001b[36m0:00:00\u001b[0m\n",
            "\u001b[?25hDownloading semantic_version-2.10.0-py2.py3-none-any.whl (15 kB)\n",
            "Downloading appdirs-1.4.4-py2.py3-none-any.whl (9.6 kB)\n",
            "Downloading rustworkx-0.15.1-cp38-abi3-manylinux_2_17_x86_64.manylinux2014_x86_64.whl (2.0 MB)\n",
            "\u001b[2K   \u001b[90m━━━━━━━━━━━━━━━━━━━━━━━━━━━━━━━━━━━━━━━━\u001b[0m \u001b[32m2.0/2.0 MB\u001b[0m \u001b[31m34.6 MB/s\u001b[0m eta \u001b[36m0:00:00\u001b[0m\n",
            "\u001b[?25hInstalling collected packages: appdirs, semantic-version, rustworkx, autoray, pennylane-lightning, pennylane\n",
            "Successfully installed appdirs-1.4.4 autoray-0.6.12 pennylane-0.37.0 pennylane-lightning-0.37.0 rustworkx-0.15.1 semantic-version-2.10.0\n",
            "Collecting wget\n",
            "  Downloading wget-3.2.zip (10 kB)\n",
            "  Preparing metadata (setup.py) ... \u001b[?25l\u001b[?25hdone\n",
            "Building wheels for collected packages: wget\n",
            "  Building wheel for wget (setup.py) ... \u001b[?25l\u001b[?25hdone\n",
            "  Created wheel for wget: filename=wget-3.2-py3-none-any.whl size=9656 sha256=090b7ad9ba9f5e8dff006e02e18885c24dd9b89888ebe300bc7aa91ca813717a\n",
            "  Stored in directory: /root/.cache/pip/wheels/8b/f1/7f/5c94f0a7a505ca1c81cd1d9208ae2064675d97582078e6c769\n",
            "Successfully built wget\n",
            "Installing collected packages: wget\n",
            "Successfully installed wget-3.2\n"
          ]
        }
      ],
      "source": [
        "# Installations\n",
        "!pip install pennylane\n",
        "!pip install wget"
      ]
    },
    {
      "cell_type": "markdown",
      "source": [
        "## Imports, path defs and data fetch"
      ],
      "metadata": {
        "id": "CF5y9vSjPE9F"
      }
    },
    {
      "cell_type": "code",
      "source": [
        "# Imports\n",
        "import pennylane as qml\n",
        "from pennylane import numpy as np\n",
        "from pennylane.templates import RandomLayers\n",
        "import tensorflow as tf\n",
        "from tensorflow import keras\n",
        "import matplotlib.pyplot as plt\n",
        "import wget\n",
        "from pathlib import Path"
      ],
      "metadata": {
        "id": "88BgbOsLPFbp"
      },
      "execution_count": null,
      "outputs": []
    },
    {
      "cell_type": "code",
      "source": [
        "# Configs\n",
        "n_epochs = 30   # Number of optimization epochs\n",
        "n_layers = 1    # Number of random layers\n",
        "n_train = 50    # Size of the train dataset\n",
        "n_test = 30     # Size of the test dataset\n",
        "\n",
        "PREPROCESS = True           # If False, skip quantum processing and load data from SAVE_PATH\n",
        "np.random.seed(0)           # Seed for NumPy random number generator\n",
        "tf.random.set_seed(0)       # Seed for TensorFlow random number generator"
      ],
      "metadata": {
        "id": "z7qdUGGDPcPZ"
      },
      "execution_count": null,
      "outputs": []
    },
    {
      "cell_type": "code",
      "source": [
        "# Data Fetch\n",
        "SAVE_PATH = Path.cwd() / \"Quanvolution\" # Data saving folder\n",
        "\n",
        "mnist_dataset = keras.datasets.mnist\n",
        "(train_images, train_labels), (test_images, test_labels) = mnist_dataset.load_data()\n",
        "\n",
        "# Reduce dataset size\n",
        "train_images = train_images[:n_train]\n",
        "train_labels = train_labels[:n_train]\n",
        "test_images = test_images[:n_test]\n",
        "test_labels = test_labels[:n_test]\n",
        "\n",
        "# Normalize pixel values within 0 and 1\n",
        "train_images = train_images / 255\n",
        "test_images = test_images / 255\n",
        "\n",
        "# Add extra dimension for convolution channels\n",
        "train_images = np.array(train_images[..., tf.newaxis], requires_grad=False)\n",
        "test_images = np.array(test_images[..., tf.newaxis], requires_grad=False)"
      ],
      "metadata": {
        "colab": {
          "base_uri": "https://localhost:8080/"
        },
        "id": "ICXccAT_PoNb",
        "outputId": "c022680c-06c0-4286-f743-1f720d980fa7"
      },
      "execution_count": null,
      "outputs": [
        {
          "output_type": "stream",
          "name": "stdout",
          "text": [
            "Downloading data from https://storage.googleapis.com/tensorflow/tf-keras-datasets/mnist.npz\n",
            "\u001b[1m11490434/11490434\u001b[0m \u001b[32m━━━━━━━━━━━━━━━━━━━━\u001b[0m\u001b[37m\u001b[0m \u001b[1m0s\u001b[0m 0us/step\n"
          ]
        }
      ]
    },
    {
      "cell_type": "markdown",
      "source": [
        "## Important definitions"
      ],
      "metadata": {
        "id": "kBfFU5FiQSY1"
      }
    },
    {
      "cell_type": "code",
      "source": [
        "# Creating device and randomly initializing parameters\n",
        "dev = qml.device(\"default.qubit\", wires=4)\n",
        "# Random circuit parameters\n",
        "rand_params = np.random.uniform(high=2 * np.pi, size=(n_layers, 4))"
      ],
      "metadata": {
        "id": "jRkGRiXRQEkq"
      },
      "execution_count": null,
      "outputs": []
    },
    {
      "cell_type": "code",
      "source": [
        "# Defining Embedding circuit\n",
        "@qml.qnode(dev)\n",
        "def circuit(phi):\n",
        "    # Encoding of 4 classical input values\n",
        "    for j in range(4):\n",
        "        qml.RY(np.pi * phi[j], wires=j)\n",
        "\n",
        "    # Random quantum circuit\n",
        "    RandomLayers(rand_params, wires=list(range(4)))\n",
        "\n",
        "    # Measurement producing 4 classical output values\n",
        "    return [qml.expval(qml.PauliZ(j)) for j in range(4)]"
      ],
      "metadata": {
        "id": "WInE2bK3QiJL"
      },
      "execution_count": null,
      "outputs": []
    },
    {
      "cell_type": "code",
      "source": [
        "# Defining Quanvolutional Layer\n",
        "def quanv(image):\n",
        "    \"\"\"Convolves the input image with many applications of the same quantum circuit.\"\"\"\n",
        "    out = np.zeros((14, 14, 4))\n",
        "\n",
        "    # Loop over the coordinates of the top-left pixel of 2X2 squares\n",
        "    for j in range(0, 28, 2):\n",
        "        for k in range(0, 28, 2):\n",
        "            # Process a squared 2x2 region of the image with a quantum circuit\n",
        "            q_results = circuit(\n",
        "                [\n",
        "                    image[j, k, 0],\n",
        "                    image[j, k + 1, 0],\n",
        "                    image[j + 1, k, 0],\n",
        "                    image[j + 1, k + 1, 0]\n",
        "                ]\n",
        "            )\n",
        "            # Assign expectation values to different channels of the output pixel (j/2, k/2)\n",
        "            for c in range(4):\n",
        "                out[j // 2, k // 2, c] = q_results[c]\n",
        "    return out"
      ],
      "metadata": {
        "id": "rYrM2TciSv3p"
      },
      "execution_count": null,
      "outputs": []
    },
    {
      "cell_type": "markdown",
      "source": [
        "## Quantum preprocessing of dataset"
      ],
      "metadata": {
        "id": "ydcYDME5S_ir"
      }
    },
    {
      "cell_type": "code",
      "source": [
        "# Preprocessing and saving\n",
        "if PREPROCESS == True:\n",
        "    q_train_images = []\n",
        "    print(\"Quantum pre-processing of train images:\")\n",
        "    for idx, img in enumerate(train_images):\n",
        "        print(\"{}/{}        \".format(idx + 1, n_train), end=\"\\r\")\n",
        "        q_train_images.append(quanv(img))\n",
        "    q_train_images = np.asarray(q_train_images)\n",
        "\n",
        "    q_test_images = []\n",
        "    print(\"\\nQuantum pre-processing of test images:\")\n",
        "    for idx, img in enumerate(test_images):\n",
        "        print(\"{}/{}        \".format(idx + 1, n_test), end=\"\\r\")\n",
        "        q_test_images.append(quanv(img))\n",
        "    q_test_images = np.asarray(q_test_images)\n",
        "\n",
        "    # Save pre-processed images\n",
        "    np.save(SAVE_PATH + \"q_train_images.npy\", q_train_images)\n",
        "    np.save(SAVE_PATH + \"q_test_images.npy\", q_test_images)\n",
        "\n",
        "\n",
        "# Load pre-processed images\n",
        "q_train_images = np.load(SAVE_PATH + \"q_train_images.npy\")\n",
        "q_test_images = np.load(SAVE_PATH + \"q_test_images.npy\")"
      ],
      "metadata": {
        "colab": {
          "base_uri": "https://localhost:8080/",
          "height": 263
        },
        "id": "WA54YkYVS3yI",
        "outputId": "bf1b9002-1f02-4787-c81a-42921bd5e205"
      },
      "execution_count": null,
      "outputs": [
        {
          "output_type": "stream",
          "name": "stdout",
          "text": [
            "Quantum pre-processing of train images:\n",
            "\n",
            "Quantum pre-processing of test images:\n"
          ]
        },
        {
          "output_type": "error",
          "ename": "TypeError",
          "evalue": "unsupported operand type(s) for +: 'PosixPath' and 'str'",
          "traceback": [
            "\u001b[0;31m---------------------------------------------------------------------------\u001b[0m",
            "\u001b[0;31mTypeError\u001b[0m                                 Traceback (most recent call last)",
            "\u001b[0;32m<ipython-input-15-ade8b4f4787e>\u001b[0m in \u001b[0;36m<cell line: 2>\u001b[0;34m()\u001b[0m\n\u001b[1;32m     16\u001b[0m \u001b[0;34m\u001b[0m\u001b[0m\n\u001b[1;32m     17\u001b[0m     \u001b[0;31m# Save pre-processed images\u001b[0m\u001b[0;34m\u001b[0m\u001b[0;34m\u001b[0m\u001b[0m\n\u001b[0;32m---> 18\u001b[0;31m     \u001b[0mnp\u001b[0m\u001b[0;34m.\u001b[0m\u001b[0msave\u001b[0m\u001b[0;34m(\u001b[0m\u001b[0mSAVE_PATH\u001b[0m \u001b[0;34m+\u001b[0m \u001b[0;34m\"q_train_images.npy\"\u001b[0m\u001b[0;34m,\u001b[0m \u001b[0mq_train_images\u001b[0m\u001b[0;34m)\u001b[0m\u001b[0;34m\u001b[0m\u001b[0;34m\u001b[0m\u001b[0m\n\u001b[0m\u001b[1;32m     19\u001b[0m     \u001b[0mnp\u001b[0m\u001b[0;34m.\u001b[0m\u001b[0msave\u001b[0m\u001b[0;34m(\u001b[0m\u001b[0mSAVE_PATH\u001b[0m \u001b[0;34m+\u001b[0m \u001b[0;34m\"q_test_images.npy\"\u001b[0m\u001b[0;34m,\u001b[0m \u001b[0mq_test_images\u001b[0m\u001b[0;34m)\u001b[0m\u001b[0;34m\u001b[0m\u001b[0;34m\u001b[0m\u001b[0m\n\u001b[1;32m     20\u001b[0m \u001b[0;34m\u001b[0m\u001b[0m\n",
            "\u001b[0;31mTypeError\u001b[0m: unsupported operand type(s) for +: 'PosixPath' and 'str'"
          ]
        }
      ]
    },
    {
      "cell_type": "markdown",
      "source": [
        "## Visualizing preprocessing effect"
      ],
      "metadata": {
        "id": "6oclUbOyTbrG"
      }
    },
    {
      "cell_type": "code",
      "source": [
        "# Plotting preprocessed images\n",
        "n_samples = 4\n",
        "n_channels = 4\n",
        "fig, axes = plt.subplots(1 + n_channels, n_samples, figsize=(10, 10))\n",
        "for k in range(n_samples):\n",
        "    axes[0, 0].set_ylabel(\"Input\")\n",
        "    if k != 0:\n",
        "        axes[0, k].yaxis.set_visible(False)\n",
        "    axes[0, k].imshow(train_images[k, :, :, 0], cmap=\"gray\")\n",
        "\n",
        "    # Plot all output channels\n",
        "    for c in range(n_channels):\n",
        "        axes[c + 1, 0].set_ylabel(\"Output [ch. {}]\".format(c))\n",
        "        if k != 0:\n",
        "            axes[c, k].yaxis.set_visible(False)\n",
        "        axes[c + 1, k].imshow(q_train_images[k, :, :, c], cmap=\"gray\")\n",
        "\n",
        "plt.tight_layout()\n",
        "plt.show()"
      ],
      "metadata": {
        "id": "8FFk7kUMTLJa"
      },
      "execution_count": null,
      "outputs": []
    },
    {
      "cell_type": "markdown",
      "source": [
        "## Defining hybrid quantum-classical model"
      ],
      "metadata": {
        "id": "wgZJspGDTkXL"
      }
    },
    {
      "cell_type": "code",
      "source": [
        "# Defining and compiling Classical MLP with Adam optimizer and Cross-Entropy Loss\n",
        "def MyModel():\n",
        "    \"\"\"Initializes and returns a custom Keras model\n",
        "    which is ready to be trained.\"\"\"\n",
        "    model = keras.models.Sequential([\n",
        "        keras.layers.Flatten(),\n",
        "        keras.layers.Dense(10, activation=\"softmax\")\n",
        "    ])\n",
        "\n",
        "    model.compile(\n",
        "        optimizer='adam',\n",
        "        loss=\"sparse_categorical_crossentropy\",\n",
        "        metrics=[\"accuracy\"],\n",
        "    )\n",
        "    return model"
      ],
      "metadata": {
        "id": "2TAPvbLQThsK"
      },
      "execution_count": null,
      "outputs": []
    },
    {
      "cell_type": "markdown",
      "source": [
        "## Training the model"
      ],
      "metadata": {
        "id": "HKgeEU0GUDPd"
      }
    },
    {
      "cell_type": "code",
      "source": [
        "# Model training - Quantum Hybrid\n",
        "q_model = MyModel()\n",
        "\n",
        "q_history = q_model.fit(\n",
        "    q_train_images,\n",
        "    train_labels,\n",
        "    validation_data=(q_test_images, test_labels),\n",
        "    batch_size=4,\n",
        "    epochs=n_epochs,\n",
        "    verbose=2,\n",
        ")"
      ],
      "metadata": {
        "colab": {
          "base_uri": "https://localhost:8080/"
        },
        "id": "-elLG-VJT-wa",
        "outputId": "bdfbeb65-e53d-41f5-ea69-370f794a2af2"
      },
      "execution_count": null,
      "outputs": [
        {
          "output_type": "stream",
          "name": "stdout",
          "text": [
            "Epoch 1/30\n",
            "13/13 - 1s - 90ms/step - accuracy: 0.1000 - loss: 2.8122 - val_accuracy: 0.2000 - val_loss: 2.3816\n",
            "Epoch 2/30\n",
            "13/13 - 0s - 20ms/step - accuracy: 0.2400 - loss: 2.0051 - val_accuracy: 0.3000 - val_loss: 2.1833\n",
            "Epoch 3/30\n",
            "13/13 - 0s - 11ms/step - accuracy: 0.5200 - loss: 1.6976 - val_accuracy: 0.3667 - val_loss: 1.9893\n",
            "Epoch 4/30\n",
            "13/13 - 0s - 11ms/step - accuracy: 0.8000 - loss: 1.3825 - val_accuracy: 0.3667 - val_loss: 1.8380\n",
            "Epoch 5/30\n",
            "13/13 - 0s - 6ms/step - accuracy: 0.8800 - loss: 1.1399 - val_accuracy: 0.4000 - val_loss: 1.7296\n",
            "Epoch 6/30\n",
            "13/13 - 0s - 10ms/step - accuracy: 0.9600 - loss: 0.9456 - val_accuracy: 0.5667 - val_loss: 1.6382\n",
            "Epoch 7/30\n",
            "13/13 - 0s - 6ms/step - accuracy: 0.9600 - loss: 0.7906 - val_accuracy: 0.6000 - val_loss: 1.5599\n",
            "Epoch 8/30\n",
            "13/13 - 0s - 6ms/step - accuracy: 0.9600 - loss: 0.6689 - val_accuracy: 0.6333 - val_loss: 1.4977\n",
            "Epoch 9/30\n",
            "13/13 - 0s - 5ms/step - accuracy: 0.9600 - loss: 0.5698 - val_accuracy: 0.6333 - val_loss: 1.4455\n",
            "Epoch 10/30\n",
            "13/13 - 0s - 5ms/step - accuracy: 0.9600 - loss: 0.4900 - val_accuracy: 0.6667 - val_loss: 1.4014\n",
            "Epoch 11/30\n",
            "13/13 - 0s - 6ms/step - accuracy: 0.9600 - loss: 0.4251 - val_accuracy: 0.6667 - val_loss: 1.3640\n",
            "Epoch 12/30\n",
            "13/13 - 0s - 12ms/step - accuracy: 1.0000 - loss: 0.3717 - val_accuracy: 0.6667 - val_loss: 1.3320\n",
            "Epoch 13/30\n",
            "13/13 - 0s - 5ms/step - accuracy: 1.0000 - loss: 0.3274 - val_accuracy: 0.6667 - val_loss: 1.3047\n",
            "Epoch 14/30\n",
            "13/13 - 0s - 6ms/step - accuracy: 1.0000 - loss: 0.2905 - val_accuracy: 0.6667 - val_loss: 1.2811\n",
            "Epoch 15/30\n",
            "13/13 - 0s - 10ms/step - accuracy: 1.0000 - loss: 0.2595 - val_accuracy: 0.6667 - val_loss: 1.2606\n",
            "Epoch 16/30\n",
            "13/13 - 0s - 5ms/step - accuracy: 1.0000 - loss: 0.2333 - val_accuracy: 0.6667 - val_loss: 1.2427\n",
            "Epoch 17/30\n",
            "13/13 - 0s - 6ms/step - accuracy: 1.0000 - loss: 0.2109 - val_accuracy: 0.6667 - val_loss: 1.2270\n",
            "Epoch 18/30\n",
            "13/13 - 0s - 11ms/step - accuracy: 1.0000 - loss: 0.1918 - val_accuracy: 0.6667 - val_loss: 1.2132\n",
            "Epoch 19/30\n",
            "13/13 - 0s - 9ms/step - accuracy: 1.0000 - loss: 0.1752 - val_accuracy: 0.6667 - val_loss: 1.2008\n",
            "Epoch 20/30\n",
            "13/13 - 0s - 11ms/step - accuracy: 1.0000 - loss: 0.1608 - val_accuracy: 0.6667 - val_loss: 1.1898\n",
            "Epoch 21/30\n",
            "13/13 - 0s - 11ms/step - accuracy: 1.0000 - loss: 0.1482 - val_accuracy: 0.6667 - val_loss: 1.1798\n",
            "Epoch 22/30\n",
            "13/13 - 0s - 11ms/step - accuracy: 1.0000 - loss: 0.1370 - val_accuracy: 0.6667 - val_loss: 1.1708\n",
            "Epoch 23/30\n",
            "13/13 - 0s - 11ms/step - accuracy: 1.0000 - loss: 0.1272 - val_accuracy: 0.6667 - val_loss: 1.1627\n",
            "Epoch 24/30\n",
            "13/13 - 0s - 5ms/step - accuracy: 1.0000 - loss: 0.1184 - val_accuracy: 0.7000 - val_loss: 1.1552\n",
            "Epoch 25/30\n",
            "13/13 - 0s - 6ms/step - accuracy: 1.0000 - loss: 0.1106 - val_accuracy: 0.7000 - val_loss: 1.1484\n",
            "Epoch 26/30\n",
            "13/13 - 0s - 5ms/step - accuracy: 1.0000 - loss: 0.1036 - val_accuracy: 0.7000 - val_loss: 1.1421\n",
            "Epoch 27/30\n",
            "13/13 - 0s - 11ms/step - accuracy: 1.0000 - loss: 0.0973 - val_accuracy: 0.7000 - val_loss: 1.1363\n",
            "Epoch 28/30\n",
            "13/13 - 0s - 10ms/step - accuracy: 1.0000 - loss: 0.0915 - val_accuracy: 0.7333 - val_loss: 1.1310\n",
            "Epoch 29/30\n",
            "13/13 - 0s - 11ms/step - accuracy: 1.0000 - loss: 0.0863 - val_accuracy: 0.7333 - val_loss: 1.1260\n",
            "Epoch 30/30\n",
            "13/13 - 0s - 10ms/step - accuracy: 1.0000 - loss: 0.0816 - val_accuracy: 0.7333 - val_loss: 1.1214\n"
          ]
        }
      ]
    },
    {
      "cell_type": "code",
      "source": [
        "# Model training - pure classical\n",
        "c_model = MyModel()\n",
        "\n",
        "c_history = c_model.fit(\n",
        "    train_images,\n",
        "    train_labels,\n",
        "    validation_data=(test_images, test_labels),\n",
        "    batch_size=4,\n",
        "    epochs=n_epochs,\n",
        "    verbose=2,\n",
        ")"
      ],
      "metadata": {
        "colab": {
          "base_uri": "https://localhost:8080/"
        },
        "id": "YVskUgv7UICJ",
        "outputId": "0961ba8f-cea9-49ce-d5e5-43c6108677d1"
      },
      "execution_count": null,
      "outputs": [
        {
          "output_type": "stream",
          "name": "stdout",
          "text": [
            "Epoch 1/30\n",
            "13/13 - 2s - 128ms/step - accuracy: 0.1200 - loss: 2.3560 - val_accuracy: 0.2000 - val_loss: 2.1265\n",
            "Epoch 2/30\n",
            "13/13 - 0s - 9ms/step - accuracy: 0.4800 - loss: 1.9388 - val_accuracy: 0.4000 - val_loss: 2.0097\n",
            "Epoch 3/30\n",
            "13/13 - 0s - 8ms/step - accuracy: 0.6000 - loss: 1.6543 - val_accuracy: 0.3667 - val_loss: 1.8965\n",
            "Epoch 4/30\n",
            "13/13 - 0s - 7ms/step - accuracy: 0.7600 - loss: 1.4216 - val_accuracy: 0.4333 - val_loss: 1.7859\n",
            "Epoch 5/30\n",
            "13/13 - 0s - 10ms/step - accuracy: 0.8400 - loss: 1.2267 - val_accuracy: 0.5000 - val_loss: 1.6846\n",
            "Epoch 6/30\n",
            "13/13 - 0s - 11ms/step - accuracy: 0.9000 - loss: 1.0636 - val_accuracy: 0.4667 - val_loss: 1.5964\n",
            "Epoch 7/30\n",
            "13/13 - 0s - 6ms/step - accuracy: 0.9000 - loss: 0.9277 - val_accuracy: 0.5333 - val_loss: 1.5216\n",
            "Epoch 8/30\n",
            "13/13 - 0s - 10ms/step - accuracy: 0.9400 - loss: 0.8143 - val_accuracy: 0.5000 - val_loss: 1.4585\n",
            "Epoch 9/30\n",
            "13/13 - 0s - 6ms/step - accuracy: 0.9400 - loss: 0.7194 - val_accuracy: 0.5000 - val_loss: 1.4048\n",
            "Epoch 10/30\n",
            "13/13 - 0s - 5ms/step - accuracy: 0.9600 - loss: 0.6394 - val_accuracy: 0.5000 - val_loss: 1.3588\n",
            "Epoch 11/30\n",
            "13/13 - 0s - 11ms/step - accuracy: 0.9600 - loss: 0.5715 - val_accuracy: 0.5000 - val_loss: 1.3190\n",
            "Epoch 12/30\n",
            "13/13 - 0s - 10ms/step - accuracy: 0.9800 - loss: 0.5135 - val_accuracy: 0.5000 - val_loss: 1.2845\n",
            "Epoch 13/30\n",
            "13/13 - 0s - 6ms/step - accuracy: 0.9800 - loss: 0.4637 - val_accuracy: 0.5333 - val_loss: 1.2542\n",
            "Epoch 14/30\n",
            "13/13 - 0s - 11ms/step - accuracy: 1.0000 - loss: 0.4205 - val_accuracy: 0.5667 - val_loss: 1.2276\n",
            "Epoch 15/30\n",
            "13/13 - 0s - 10ms/step - accuracy: 1.0000 - loss: 0.3830 - val_accuracy: 0.5333 - val_loss: 1.2041\n",
            "Epoch 16/30\n",
            "13/13 - 0s - 11ms/step - accuracy: 1.0000 - loss: 0.3502 - val_accuracy: 0.5667 - val_loss: 1.1833\n",
            "Epoch 17/30\n",
            "13/13 - 0s - 5ms/step - accuracy: 1.0000 - loss: 0.3213 - val_accuracy: 0.6000 - val_loss: 1.1647\n",
            "Epoch 18/30\n",
            "13/13 - 0s - 11ms/step - accuracy: 1.0000 - loss: 0.2958 - val_accuracy: 0.6000 - val_loss: 1.1481\n",
            "Epoch 19/30\n",
            "13/13 - 0s - 5ms/step - accuracy: 1.0000 - loss: 0.2732 - val_accuracy: 0.6000 - val_loss: 1.1332\n",
            "Epoch 20/30\n",
            "13/13 - 0s - 5ms/step - accuracy: 1.0000 - loss: 0.2531 - val_accuracy: 0.6000 - val_loss: 1.1198\n",
            "Epoch 21/30\n",
            "13/13 - 0s - 10ms/step - accuracy: 1.0000 - loss: 0.2351 - val_accuracy: 0.6333 - val_loss: 1.1077\n",
            "Epoch 22/30\n",
            "13/13 - 0s - 12ms/step - accuracy: 1.0000 - loss: 0.2189 - val_accuracy: 0.6333 - val_loss: 1.0967\n",
            "Epoch 23/30\n",
            "13/13 - 0s - 10ms/step - accuracy: 1.0000 - loss: 0.2044 - val_accuracy: 0.6333 - val_loss: 1.0866\n",
            "Epoch 24/30\n",
            "13/13 - 0s - 11ms/step - accuracy: 1.0000 - loss: 0.1912 - val_accuracy: 0.6333 - val_loss: 1.0775\n",
            "Epoch 25/30\n",
            "13/13 - 0s - 11ms/step - accuracy: 1.0000 - loss: 0.1793 - val_accuracy: 0.6333 - val_loss: 1.0691\n",
            "Epoch 26/30\n",
            "13/13 - 0s - 5ms/step - accuracy: 1.0000 - loss: 0.1685 - val_accuracy: 0.6333 - val_loss: 1.0615\n",
            "Epoch 27/30\n",
            "13/13 - 0s - 5ms/step - accuracy: 1.0000 - loss: 0.1587 - val_accuracy: 0.6333 - val_loss: 1.0544\n",
            "Epoch 28/30\n",
            "13/13 - 0s - 5ms/step - accuracy: 1.0000 - loss: 0.1497 - val_accuracy: 0.6333 - val_loss: 1.0479\n",
            "Epoch 29/30\n",
            "13/13 - 0s - 5ms/step - accuracy: 1.0000 - loss: 0.1415 - val_accuracy: 0.6333 - val_loss: 1.0419\n",
            "Epoch 30/30\n",
            "13/13 - 0s - 11ms/step - accuracy: 1.0000 - loss: 0.1339 - val_accuracy: 0.6333 - val_loss: 1.0364\n"
          ]
        }
      ]
    },
    {
      "cell_type": "markdown",
      "source": [
        "## Results"
      ],
      "metadata": {
        "id": "bfstoKwnUZVb"
      }
    },
    {
      "cell_type": "code",
      "source": [
        "# Plotting test accuracy and test loss\n",
        "import matplotlib.pyplot as plt\n",
        "\n",
        "plt.style.use(\"seaborn\")\n",
        "fig, (ax1, ax2) = plt.subplots(2, 1, figsize=(6, 9))\n",
        "\n",
        "ax1.plot(q_history.history[\"val_accuracy\"], \"-ob\", label=\"With quantum layer\")\n",
        "ax1.plot(c_history.history[\"val_accuracy\"], \"-og\", label=\"Without quantum layer\")\n",
        "ax1.set_ylabel(\"Accuracy\")\n",
        "ax1.set_ylim([0, 1])\n",
        "ax1.set_xlabel(\"Epoch\")\n",
        "ax1.legend()\n",
        "\n",
        "ax2.plot(q_history.history[\"val_loss\"], \"-ob\", label=\"With quantum layer\")\n",
        "ax2.plot(c_history.history[\"val_loss\"], \"-og\", label=\"Without quantum layer\")\n",
        "ax2.set_ylabel(\"Loss\")\n",
        "ax2.set_ylim(top=2.5)\n",
        "ax2.set_xlabel(\"Epoch\")\n",
        "ax2.legend()\n",
        "plt.tight_layout()\n",
        "plt.show()"
      ],
      "metadata": {
        "colab": {
          "base_uri": "https://localhost:8080/",
          "height": 961
        },
        "id": "_TVCU8tlUVeJ",
        "outputId": "c5e3dd2f-3f72-40e0-fa40-0368af3ef6bd"
      },
      "execution_count": null,
      "outputs": [
        {
          "output_type": "stream",
          "name": "stderr",
          "text": [
            "<ipython-input-20-388dde8736c9>:4: MatplotlibDeprecationWarning: The seaborn styles shipped by Matplotlib are deprecated since 3.6, as they no longer correspond to the styles shipped by seaborn. However, they will remain available as 'seaborn-v0_8-<style>'. Alternatively, directly use the seaborn API instead.\n",
            "  plt.style.use(\"seaborn\")\n"
          ]
        },
        {
          "output_type": "display_data",
          "data": {
            "text/plain": [
              "<Figure size 600x900 with 2 Axes>"
            ],
            "image/png": "[encoded data removed]"
          },
          "metadata": {}
        }
      ]
    },
    {
      "cell_type": "code",
      "source": [],
      "metadata": {
        "id": "hKNFvn14UdXp"
      },
      "execution_count": null,
      "outputs": []
    }
  ]
}